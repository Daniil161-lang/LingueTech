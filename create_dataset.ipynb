{
 "cells": [
  {
   "cell_type": "code",
   "execution_count": 21,
   "id": "49710514-06b2-419c-b2ff-bc2c1ea34b27",
   "metadata": {
    "execution": {
     "iopub.execute_input": "2024-08-07T18:44:21.373025Z",
     "iopub.status.busy": "2024-08-07T18:44:21.371827Z",
     "iopub.status.idle": "2024-08-07T18:44:21.407904Z",
     "shell.execute_reply": "2024-08-07T18:44:21.407015Z",
     "shell.execute_reply.started": "2024-08-07T18:44:21.372978Z"
    },
    "tags": []
   },
   "outputs": [
    {
     "name": "stdout",
     "output_type": "stream",
     "text": [
      "Git LFS initialized.\n"
     ]
    }
   ],
   "source": [
    "!git lfs install"
   ]
  },
  {
   "cell_type": "code",
   "execution_count": 25,
   "id": "5a08d017-48ae-4ac3-ac73-8a8acb6803d0",
   "metadata": {
    "execution": {
     "iopub.execute_input": "2024-08-07T18:58:27.345743Z",
     "iopub.status.busy": "2024-08-07T18:58:27.344417Z",
     "iopub.status.idle": "2024-08-07T18:58:27.368004Z",
     "shell.execute_reply": "2024-08-07T18:58:27.367093Z",
     "shell.execute_reply.started": "2024-08-07T18:58:27.345697Z"
    }
   },
   "outputs": [],
   "source": [
    "#!:bash\n",
    "git config --global core.longpaths true"
   ]
  },
  {
   "cell_type": "code",
   "execution_count": null,
   "id": "e23ebb5e-e57f-4bad-bb16-a97265e1b599",
   "metadata": {},
   "outputs": [],
   "source": [
    "# #!:bash\n",
    "# #pragma dataset init <имя_датасета> --size 1Gb\n",
    "\n",
    "# set -e\n",
    "# cp -r <имя_исходного_каталога> /home/jupyter/mnt/datasets/<имя_датасета>"
   ]
  },
  {
   "cell_type": "code",
   "execution_count": 14,
   "id": "b725543a-183a-470f-8a28-6a62e7cecfd2",
   "metadata": {
    "execution": {
     "iopub.execute_input": "2024-08-07T18:33:57.931172Z",
     "iopub.status.busy": "2024-08-07T18:33:57.930193Z",
     "iopub.status.idle": "2024-08-07T18:33:57.945243Z",
     "shell.execute_reply": "2024-08-07T18:33:57.944531Z",
     "shell.execute_reply.started": "2024-08-07T18:33:57.931126Z"
    },
    "tags": []
   },
   "outputs": [
    {
     "name": "stdout",
     "output_type": "stream",
     "text": [
      "/home/jupyter/work/resources\n"
     ]
    }
   ],
   "source": [
    "cd .."
   ]
  },
  {
   "cell_type": "code",
   "execution_count": 29,
   "id": "3507e9d3-2604-4b7d-a717-04e5f57d49fd",
   "metadata": {
    "execution": {
     "iopub.execute_input": "2024-08-07T19:05:25.414388Z",
     "iopub.status.busy": "2024-08-07T19:05:25.413171Z",
     "iopub.status.idle": "2024-08-07T19:05:46.210169Z",
     "shell.execute_reply": "2024-08-07T19:05:46.209324Z",
     "shell.execute_reply.started": "2024-08-07T19:05:25.414345Z"
    },
    "tags": []
   },
   "outputs": [
    {
     "name": "stderr",
     "output_type": "stream",
     "text": [
      "Cloning into 'prm800k'...\n",
      "Filtering content: 100% (6/6), 465.82 MiB | 23.92 MiB/s, done.\n"
     ]
    }
   ],
   "source": [
    "#!:bash\n",
    "git clone https://github.com/openai/prm800k "
   ]
  },
  {
   "cell_type": "code",
   "execution_count": 34,
   "id": "e97aedf1-358a-4166-b3cf-ab9b63146364",
   "metadata": {
    "execution": {
     "iopub.execute_input": "2024-08-07T19:18:51.948246Z",
     "iopub.status.busy": "2024-08-07T19:18:51.947177Z",
     "iopub.status.idle": "2024-08-07T19:19:55.536786Z",
     "shell.execute_reply": "2024-08-07T19:19:55.535948Z",
     "shell.execute_reply.started": "2024-08-07T19:18:51.948201Z"
    },
    "tags": []
   },
   "outputs": [],
   "source": [
    "#!:bash\n",
    "#pragma dataset init prm800k --size 2Gb\n",
    "cp -r prm800k /home/jupyter/mnt/datasets/prm800k"
   ]
  },
  {
   "cell_type": "code",
   "execution_count": 35,
   "id": "635744ee-27e7-4f0e-a590-bf52c964d28f",
   "metadata": {
    "execution": {
     "iopub.execute_input": "2024-08-07T19:24:16.816827Z",
     "iopub.status.busy": "2024-08-07T19:24:16.815823Z",
     "iopub.status.idle": "2024-08-07T19:24:16.843110Z",
     "shell.execute_reply": "2024-08-07T19:24:16.842308Z",
     "shell.execute_reply.started": "2024-08-07T19:24:16.816790Z"
    },
    "tags": []
   },
   "outputs": [
    {
     "name": "stdout",
     "output_type": "stream",
     "text": [
      "\u001b[0m\u001b[01;34mprm800k\u001b[0m/\n"
     ]
    }
   ],
   "source": [
    "ls /home/jupyter/mnt/datasets/prm800k"
   ]
  },
  {
   "cell_type": "code",
   "execution_count": 38,
   "id": "b2f17658-9ace-4507-b15c-704859524b45",
   "metadata": {
    "execution": {
     "iopub.execute_input": "2024-08-07T19:24:54.530542Z",
     "iopub.status.busy": "2024-08-07T19:24:54.529504Z",
     "iopub.status.idle": "2024-08-07T19:24:54.548232Z",
     "shell.execute_reply": "2024-08-07T19:24:54.547533Z",
     "shell.execute_reply.started": "2024-08-07T19:24:54.530500Z"
    },
    "tags": []
   },
   "outputs": [
    {
     "name": "stdout",
     "output_type": "stream",
     "text": [
      "phase1_test.jsonl\n",
      "phase1_train.jsonl\n",
      "phase2_test.jsonl\n",
      "phase2_train.jsonl\n"
     ]
    }
   ],
   "source": [
    "ls /home/jupyter/mnt/datasets/prm800k/prm800k/prm800k/data/"
   ]
  },
  {
   "cell_type": "code",
   "execution_count": null,
   "id": "1e6255eb-f658-4e67-9e9b-3eb8fcd193f2",
   "metadata": {
    "tags": []
   },
   "outputs": [],
   "source": []
  },
  {
   "cell_type": "code",
   "execution_count": null,
   "id": "de435264-ef7e-4254-92e4-87deb0f8a4e8",
   "metadata": {
    "tags": []
   },
   "outputs": [],
   "source": [
    "\n"
   ]
  },
  {
   "cell_type": "code",
   "execution_count": null,
   "id": "d57b047f-8404-44d8-a4af-8f36102dee5d",
   "metadata": {},
   "outputs": [],
   "source": []
  }
 ],
 "metadata": {
  "kernelspec": {
   "display_name": "DataSphere Kernel",
   "language": "python",
   "name": "python3"
  },
  "language_info": {
   "codemirror_mode": {
    "name": "ipython",
    "version": 3
   },
   "file_extension": ".py",
   "mimetype": "text/x-python",
   "name": "python",
   "nbconvert_exporter": "python",
   "pygments_lexer": "ipython3",
   "version": "3.10.12"
  }
 },
 "nbformat": 4,
 "nbformat_minor": 5
}
