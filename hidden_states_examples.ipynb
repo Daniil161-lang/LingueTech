{
 "cells": [
  {
   "cell_type": "code",
   "execution_count": 1,
   "metadata": {},
   "outputs": [],
   "source": [
    "import torch\n",
    "import numpy as np\n",
    "from transformers import AutoModelForCausalLM, AutoTokenizer"
   ]
  },
  {
   "cell_type": "code",
   "execution_count": 4,
   "metadata": {},
   "outputs": [
    {
     "data": {
      "application/vnd.jupyter.widget-view+json": {
       "model_id": "26ca0d518a8f46638e79112f8c3a1cfb",
       "version_major": 2,
       "version_minor": 0
      },
      "text/plain": [
       "Loading checkpoint shards:   0%|          | 0/2 [00:00<?, ?it/s]"
      ]
     },
     "metadata": {},
     "output_type": "display_data"
    }
   ],
   "source": [
    "model_name = \"meta-llama/Llama-2-7b-hf\"\n",
    "device = 'cpu'\n",
    "\n",
    "model = AutoModelForCausalLM.from_pretrained(model_name,\n",
    "                                             output_hidden_states = True,\n",
    "                                             torch_dtype=torch.float16,\n",
    "                                             cache_dir=\"/mnt/hdd_drive/huggingface/hub/\").to(device)\n",
    "\n",
    "tokenizer = AutoTokenizer.from_pretrained(model_name, \n",
    "                                          cache_dir=\"/mnt/hdd_drive/huggingface/hub/\")"
   ]
  },
  {
   "cell_type": "code",
   "execution_count": 3,
   "metadata": {},
   "outputs": [
    {
     "name": "stdout",
     "output_type": "stream",
     "text": [
      "tensor([[   1,  306,  763,  274, 1446]])\n"
     ]
    }
   ],
   "source": [
    "prompt = 'I like cats'\n",
    "tokenized_prompt = tokenizer(prompt, truncation=False, return_tensors=\"pt\").input_ids.to(device)\n",
    "print(tokenized_prompt)"
   ]
  },
  {
   "cell_type": "code",
   "execution_count": 17,
   "metadata": {},
   "outputs": [],
   "source": [
    "output = model(tokenized_prompt)\n",
    "hidden_states = np.array([h.detach().cpu().numpy() for h in output.hidden_states]).squeeze()"
   ]
  },
  {
   "cell_type": "code",
   "execution_count": 18,
   "metadata": {},
   "outputs": [
    {
     "name": "stdout",
     "output_type": "stream",
     "text": [
      "(33, 5, 4096)\n"
     ]
    }
   ],
   "source": [
    "### Here 33 layers, but actually it's 32.\n",
    "### Layer 0 here is technical and usually not used\n",
    "print(hidden_states.shape) ### Layer x Tokens x Embeddings Space"
   ]
  }
 ],
 "metadata": {
  "kernelspec": {
   "display_name": "laida_env",
   "language": "python",
   "name": "python3"
  },
  "language_info": {
   "codemirror_mode": {
    "name": "ipython",
    "version": 3
   },
   "file_extension": ".py",
   "mimetype": "text/x-python",
   "name": "python",
   "nbconvert_exporter": "python",
   "pygments_lexer": "ipython3",
   "version": "3.10.14"
  }
 },
 "nbformat": 4,
 "nbformat_minor": 2
}
